{
 "cells": [
  {
   "cell_type": "code",
   "execution_count": null,
   "id": "d312cf4a",
   "metadata": {},
   "outputs": [],
   "source": [
    "import pandas as pd\n",
    "import pyodbc\n",
    "import numpy as np\n",
    "\n",
    "url = 'https://raw.githubusercontent.com/petrrozkosny/pydata/main/pydata_data.csv'\n",
    "df = pd.read_csv(url,sep=';',decimal='.')\n",
    "df.drop(columns=['STATION'],inplace=True)\n",
    "# ciselne sloupce\n",
    "float_columns = df.select_dtypes(include=[\"float\"])\n",
    "\n",
    "# zaokrouhli ciselne sloupce\n",
    "df[float_columns.columns] = float_columns.apply(lambda x: x.round(2))\n",
    "df['NAME'] = \"'\"+df['NAME']+\"'\"\n",
    "df['DATE'] = \"'\"+df['DATE']+\"'\"\n",
    "df = df.replace({np.nan:\"null\"})\n",
    "\n",
    "\n",
    "cnxn = pyodbc.connect(\"DRIVER={SQL Server};\"\n",
    "                      \"SERVER=DESKTOP-PETR\\PETRDESKTOP;\"\n",
    "                      \"DATABASE=skoleni;\"\n",
    "\n",
    "                    \"Trusted_Connection=yes;\")\n",
    "                   # )\n",
    "\n",
    "\n",
    "for i,r in df.iterrows():\n",
    "    cursor = cnxn.cursor()\n",
    "    values = ','.join([ str(x) for x in df.iloc[i].to_list()])\n",
    "\n",
    "    try:\n",
    "        cursor.execute(f\"INSERT INTO meteodata (name,date,prcp,snwd,tavg,tmax,tmin) VALUES ({values}) \")\n",
    "    except:\n",
    "        cursor.rollback()\n",
    "    finally:    \n",
    "    \n",
    "        cursor.commit()\n",
    "cnxn.close()"
   ]
  }
 ],
 "metadata": {
  "kernelspec": {
   "display_name": "Python 3 (ipykernel)",
   "language": "python",
   "name": "python3"
  },
  "language_info": {
   "codemirror_mode": {
    "name": "ipython",
    "version": 3
   },
   "file_extension": ".py",
   "mimetype": "text/x-python",
   "name": "python",
   "nbconvert_exporter": "python",
   "pygments_lexer": "ipython3",
   "version": "3.11.1"
  },
  "vscode": {
   "interpreter": {
    "hash": "1a93e313433103e0a8d57b4fe23ea50035f4bd321bef6a65d84f73e2a17a4fde"
   }
  }
 },
 "nbformat": 4,
 "nbformat_minor": 5
}
